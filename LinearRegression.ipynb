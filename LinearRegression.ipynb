{
  "nbformat": 4,
  "nbformat_minor": 0,
  "metadata": {
    "colab": {
      "name": "LinearRegression.ipynb",
      "provenance": [],
      "collapsed_sections": []
    },
    "language_info": {
      "name": "python"
    },
    "kernelspec": {
      "name": "python3",
      "display_name": "Python 3"
    }
  },
  "cells": [
    {
      "cell_type": "markdown",
      "metadata": {
        "id": "Gf0Wq4RVZZnk"
      },
      "source": [
        "# Linear Regression\n",
        "\n"
      ]
    },
    {
      "cell_type": "markdown",
      "metadata": {
        "id": "SEkfSFNsZZnn"
      },
      "source": [
        "# Objective\n",
        "\n",
        "The purpouse of this notebook is to practice basic concepts of linear regression such as preprocessing, training a model or evaluating the model."
      ]
    },
    {
      "cell_type": "markdown",
      "metadata": {
        "id": "4MyYSLYkZZno"
      },
      "source": [
        "# The data\n",
        "\n",
        "The data was collected by insurance companies in US. The dataset is loaded in a csv file with the following features:\n",
        "\n",
        "- age\n",
        "- sex\n",
        "- bmi\n",
        "- children\n",
        "- smoker\n",
        "- region\n",
        "- charges"
      ]
    },
    {
      "cell_type": "code",
      "metadata": {
        "id": "HaNOJ5evZZnp",
        "colab": {
          "base_uri": "https://localhost:8080/",
          "height": 388
        },
        "outputId": "3e169f9c-724a-4e5b-abbd-31ad4ed3b6dc"
      },
      "source": [
        "import pandas as pd\n",
        "import sklearn.compose\n",
        "import warnings\n",
        "\n",
        "warnings.filterwarnings('ignore')\n",
        "\n",
        "url_test = 'https://github.com/robertomancebom/LinearRegressionPractice/blob/master/test.csv?raw=true'\n",
        "url_train = 'https://github.com/robertomancebom/LinearRegressionPractice/blob/master/train.csv?raw=true'\n",
        "\n",
        "train_data = pd.read_csv(url_train)\n",
        "test_data = pd.read_csv(url_test)\n",
        "\n",
        "train_data.describe(include='all')"
      ],
      "execution_count": 28,
      "outputs": [
        {
          "output_type": "execute_result",
          "data": {
            "text/html": [
              "<div>\n",
              "<style scoped>\n",
              "    .dataframe tbody tr th:only-of-type {\n",
              "        vertical-align: middle;\n",
              "    }\n",
              "\n",
              "    .dataframe tbody tr th {\n",
              "        vertical-align: top;\n",
              "    }\n",
              "\n",
              "    .dataframe thead th {\n",
              "        text-align: right;\n",
              "    }\n",
              "</style>\n",
              "<table border=\"1\" class=\"dataframe\">\n",
              "  <thead>\n",
              "    <tr style=\"text-align: right;\">\n",
              "      <th></th>\n",
              "      <th>id</th>\n",
              "      <th>age</th>\n",
              "      <th>sex</th>\n",
              "      <th>bmi</th>\n",
              "      <th>children</th>\n",
              "      <th>smoker</th>\n",
              "      <th>region</th>\n",
              "      <th>charges</th>\n",
              "    </tr>\n",
              "  </thead>\n",
              "  <tbody>\n",
              "    <tr>\n",
              "      <th>count</th>\n",
              "      <td>936.000000</td>\n",
              "      <td>936.000000</td>\n",
              "      <td>936</td>\n",
              "      <td>936.000000</td>\n",
              "      <td>936.000000</td>\n",
              "      <td>936</td>\n",
              "      <td>936</td>\n",
              "      <td>936.000000</td>\n",
              "    </tr>\n",
              "    <tr>\n",
              "      <th>unique</th>\n",
              "      <td>NaN</td>\n",
              "      <td>NaN</td>\n",
              "      <td>2</td>\n",
              "      <td>NaN</td>\n",
              "      <td>NaN</td>\n",
              "      <td>2</td>\n",
              "      <td>4</td>\n",
              "      <td>NaN</td>\n",
              "    </tr>\n",
              "    <tr>\n",
              "      <th>top</th>\n",
              "      <td>NaN</td>\n",
              "      <td>NaN</td>\n",
              "      <td>male</td>\n",
              "      <td>NaN</td>\n",
              "      <td>NaN</td>\n",
              "      <td>no</td>\n",
              "      <td>southeast</td>\n",
              "      <td>NaN</td>\n",
              "    </tr>\n",
              "    <tr>\n",
              "      <th>freq</th>\n",
              "      <td>NaN</td>\n",
              "      <td>NaN</td>\n",
              "      <td>481</td>\n",
              "      <td>NaN</td>\n",
              "      <td>NaN</td>\n",
              "      <td>733</td>\n",
              "      <td>251</td>\n",
              "      <td>NaN</td>\n",
              "    </tr>\n",
              "    <tr>\n",
              "      <th>mean</th>\n",
              "      <td>670.162393</td>\n",
              "      <td>39.201923</td>\n",
              "      <td>NaN</td>\n",
              "      <td>30.483323</td>\n",
              "      <td>1.092949</td>\n",
              "      <td>NaN</td>\n",
              "      <td>NaN</td>\n",
              "      <td>13543.401938</td>\n",
              "    </tr>\n",
              "    <tr>\n",
              "      <th>std</th>\n",
              "      <td>385.864903</td>\n",
              "      <td>13.978319</td>\n",
              "      <td>NaN</td>\n",
              "      <td>5.998443</td>\n",
              "      <td>1.194870</td>\n",
              "      <td>NaN</td>\n",
              "      <td>NaN</td>\n",
              "      <td>12285.440739</td>\n",
              "    </tr>\n",
              "    <tr>\n",
              "      <th>min</th>\n",
              "      <td>0.000000</td>\n",
              "      <td>18.000000</td>\n",
              "      <td>NaN</td>\n",
              "      <td>16.815000</td>\n",
              "      <td>0.000000</td>\n",
              "      <td>NaN</td>\n",
              "      <td>NaN</td>\n",
              "      <td>1121.873900</td>\n",
              "    </tr>\n",
              "    <tr>\n",
              "      <th>25%</th>\n",
              "      <td>333.750000</td>\n",
              "      <td>27.000000</td>\n",
              "      <td>NaN</td>\n",
              "      <td>26.125000</td>\n",
              "      <td>0.000000</td>\n",
              "      <td>NaN</td>\n",
              "      <td>NaN</td>\n",
              "      <td>4835.844225</td>\n",
              "    </tr>\n",
              "    <tr>\n",
              "      <th>50%</th>\n",
              "      <td>673.500000</td>\n",
              "      <td>39.000000</td>\n",
              "      <td>NaN</td>\n",
              "      <td>30.250000</td>\n",
              "      <td>1.000000</td>\n",
              "      <td>NaN</td>\n",
              "      <td>NaN</td>\n",
              "      <td>9521.134300</td>\n",
              "    </tr>\n",
              "    <tr>\n",
              "      <th>75%</th>\n",
              "      <td>1007.500000</td>\n",
              "      <td>51.000000</td>\n",
              "      <td>NaN</td>\n",
              "      <td>34.210000</td>\n",
              "      <td>2.000000</td>\n",
              "      <td>NaN</td>\n",
              "      <td>NaN</td>\n",
              "      <td>17388.570550</td>\n",
              "    </tr>\n",
              "    <tr>\n",
              "      <th>max</th>\n",
              "      <td>1336.000000</td>\n",
              "      <td>64.000000</td>\n",
              "      <td>NaN</td>\n",
              "      <td>52.580000</td>\n",
              "      <td>5.000000</td>\n",
              "      <td>NaN</td>\n",
              "      <td>NaN</td>\n",
              "      <td>63770.428010</td>\n",
              "    </tr>\n",
              "  </tbody>\n",
              "</table>\n",
              "</div>"
            ],
            "text/plain": [
              "                 id         age   sex  ...  smoker     region       charges\n",
              "count    936.000000  936.000000   936  ...     936        936    936.000000\n",
              "unique          NaN         NaN     2  ...       2          4           NaN\n",
              "top             NaN         NaN  male  ...      no  southeast           NaN\n",
              "freq            NaN         NaN   481  ...     733        251           NaN\n",
              "mean     670.162393   39.201923   NaN  ...     NaN        NaN  13543.401938\n",
              "std      385.864903   13.978319   NaN  ...     NaN        NaN  12285.440739\n",
              "min        0.000000   18.000000   NaN  ...     NaN        NaN   1121.873900\n",
              "25%      333.750000   27.000000   NaN  ...     NaN        NaN   4835.844225\n",
              "50%      673.500000   39.000000   NaN  ...     NaN        NaN   9521.134300\n",
              "75%     1007.500000   51.000000   NaN  ...     NaN        NaN  17388.570550\n",
              "max     1336.000000   64.000000   NaN  ...     NaN        NaN  63770.428010\n",
              "\n",
              "[11 rows x 8 columns]"
            ]
          },
          "metadata": {},
          "execution_count": 28
        }
      ]
    },
    {
      "cell_type": "markdown",
      "metadata": {
        "id": "k_Llhe6IZZnr"
      },
      "source": [
        "# Preprocessing\n",
        "\n",
        "Once we've seen the data, we can differenciate two types of variables: numeric and categorical variables.\n",
        "\n",
        "Moreover, the range of these data is different as seen among age, children or bmi. To work with the same values we need to use transformers.\n",
        "\n",
        "On one hand, we need to change categorical variables to numerical variables in order to work correctly. To achieve this we are using **OneHotEncoder** and **OrdinalEncoder**.\n",
        "\n",
        "On the other hand we need to preprocess the numerical variables. After studying different possibilities, we decided to use **StandardScaler**.\n",
        "\n",
        "Furthermore, with the children variable, we used **KBinsDiscretizer** to divide the data in 3 groups.\n",
        "\n",
        "Once we have preprocessed the dataset, we split the training data into two matrixes: \n",
        "* X with the features.\n",
        "* Y with the target value."
      ]
    },
    {
      "cell_type": "code",
      "metadata": {
        "id": "NiI3SpsdZZns",
        "colab": {
          "base_uri": "https://localhost:8080/"
        },
        "outputId": "687f85b2-0692-425b-88d9-2eabce867f8c"
      },
      "source": [
        "X = train_data.iloc[:,:-1]\n",
        "y = train_data.iloc[:,-1:]\n",
        "\n",
        "column_transformer = sklearn.compose.ColumnTransformer(transformers=[\n",
        "    (\"id\", \"drop\", [0]),\n",
        "    (\"age\", sklearn.preprocessing.StandardScaler(),[1]),\n",
        "    (\"sex\", sklearn.preprocessing.OneHotEncoder(drop='first'),[2]),\n",
        "    (\"bmi\", sklearn.preprocessing.StandardScaler(),[3]),\n",
        "    (\"children\",sklearn.preprocessing.KBinsDiscretizer(n_bins=3),[4]),\n",
        "    (\"smoker\", sklearn.preprocessing.OneHotEncoder(drop='first'), [5]),\n",
        "    (\"region\", sklearn.preprocessing.OrdinalEncoder(), [6]),\n",
        "])\n",
        "\n",
        "X = column_transformer.fit_transform(X)\n",
        "X"
      ],
      "execution_count": 29,
      "outputs": [
        {
          "output_type": "execute_result",
          "data": {
            "text/plain": [
              "array([[ 1.34552133,  1.        , -0.02974405, ...,  0.        ,\n",
              "         0.        ,  0.        ],\n",
              "       [ 1.05921091,  0.        , -0.2674327 , ...,  1.        ,\n",
              "         0.        ,  0.        ],\n",
              "       [ 1.77498696,  0.        ,  1.53733305, ...,  0.        ,\n",
              "         0.        ,  3.        ],\n",
              "       ...,\n",
              "       [ 1.13078852,  0.        , -0.1089736 , ...,  0.        ,\n",
              "         0.        ,  0.        ],\n",
              "       [-1.37442767,  0.        ,  0.46981911, ...,  0.        ,\n",
              "         0.        ,  3.        ],\n",
              "       [ 1.27394373,  1.        ,  1.94265475, ...,  0.        ,\n",
              "         1.        ,  2.        ]])"
            ]
          },
          "metadata": {},
          "execution_count": 29
        }
      ]
    },
    {
      "cell_type": "markdown",
      "metadata": {
        "id": "nGZIaLSoZZnt"
      },
      "source": [
        "# Training\n",
        "\n",
        "Once we have the data preprocessed, we need to choose an algorithm to train a model.\n",
        "\n",
        "In this case we are going to try three different algorithms **Ridge Regression**, **Gradient Boosting** and **Random Forest**."
      ]
    },
    {
      "cell_type": "code",
      "metadata": {
        "id": "kXpXyCDtZZnt"
      },
      "source": [
        "from sklearn.ensemble import GradientBoostingRegressor, RandomForestRegressor\n",
        "from sklearn.linear_model import Ridge\n",
        "\n",
        "rd = Ridge(random_state=30)\n",
        "gbr = GradientBoostingRegressor(random_state=30, min_samples_leaf=85,\n",
        "                                  learning_rate=0.11, max_depth=4,\n",
        "                                  n_estimators=150, max_features=4,\n",
        "                                  min_weight_fraction_leaf=0.1)\n",
        "rf = RandomForestRegressor(random_state=30)\n",
        "\n",
        "model_rd = rd.fit(X,y.values.ravel())\n",
        "model_gbr = gbr.fit(X, y.values.ravel())\n",
        "model_rf = rf.fit(X,y.values.ravel())"
      ],
      "execution_count": 30,
      "outputs": []
    },
    {
      "cell_type": "markdown",
      "metadata": {
        "id": "i5Ea6zB9ZZnu"
      },
      "source": [
        "# Model evaluation\n",
        "\n",
        "In order to evaluate the model and getting the best hyperparameters, we use cross-validation. With this method we are trying to avoid overfitting and getting a better model overall.\n",
        "\n",
        "Moreover, we used 'R2' as the evaluation metric.\n"
      ]
    },
    {
      "cell_type": "code",
      "metadata": {
        "id": "H9tJEe0DZZnv",
        "colab": {
          "base_uri": "https://localhost:8080/"
        },
        "outputId": "75685dd6-56e4-465e-9b87-e2fc103134ea"
      },
      "source": [
        "import numpy as np\n",
        "from sklearn.model_selection import RepeatedKFold, cross_val_score\n",
        "\n",
        "cv = RepeatedKFold(n_splits=10, n_repeats=3, random_state=1)\n",
        "\n",
        "score_rd = cross_val_score(model_rd, X, y, scoring='r2', cv=cv, n_jobs=-1)\n",
        "score_gbr = cross_val_score(model_gbr, X, y, scoring='r2', cv=cv, n_jobs=-1)\n",
        "score_rf = cross_val_score(model_rf, X, y, scoring='r2', cv=cv, n_jobs=-1)\n",
        "\n",
        "cv_rd, rd_score = np.mean(score_rd), model_rd.score(X, y.values.ravel())\n",
        "cv_gbr, gbr_score = np.mean(score_gbr), model_gbr.score(X, y.values.ravel())\n",
        "cv_rf, rf_score = np.mean(score_rf), model_rf.score(X, y.values.ravel())\n",
        "\n",
        "print('Ridge ---> r2:', rd_score, ' cv:', cv_rd)\n",
        "print('Gradient Boosting ---> r2', gbr_score, ' cv:', cv_gbr)\n",
        "print('Random Forest ---> r2', rf_score, ' cv:', cv_rf)"
      ],
      "execution_count": 31,
      "outputs": [
        {
          "output_type": "stream",
          "name": "stdout",
          "text": [
            "Ridge ---> r2: 0.7498543944130304  cv: 0.7388192001917021\n",
            "Gradient Boosting ---> r2 0.8851182702290967  cv: 0.8474431856909658\n",
            "Random Forest ---> r2 0.9756587703909264  cv: 0.8246365453055507\n"
          ]
        }
      ]
    },
    {
      "cell_type": "markdown",
      "metadata": {
        "id": "VYKmb70rZZnv"
      },
      "source": [
        "# The results\n",
        "\n",
        "Once we have trained and evaluated the model, we have to predict the value of charges for the test dataset."
      ]
    },
    {
      "cell_type": "code",
      "metadata": {
        "id": "rbKhFQX7ZZnv",
        "colab": {
          "base_uri": "https://localhost:8080/",
          "height": 417
        },
        "outputId": "a13db4aa-82a6-4618-961d-87fefa54be93"
      },
      "source": [
        "ids = test_data.iloc[:,:1]\n",
        "\n",
        "test = column_transformer.fit_transform(test_data.iloc[:,:])\n",
        "\n",
        "# We use Gradient Boosting to predict the values\n",
        "pred = model_gbr.predict(test)\n",
        "\n",
        "df = pd.DataFrame(pred, columns=['charges'])\n",
        "df = ids.join(df)\n",
        "\n",
        "df.to_csv('out.csv', index=False)\n",
        "df"
      ],
      "execution_count": 32,
      "outputs": [
        {
          "output_type": "execute_result",
          "data": {
            "text/html": [
              "<div>\n",
              "<style scoped>\n",
              "    .dataframe tbody tr th:only-of-type {\n",
              "        vertical-align: middle;\n",
              "    }\n",
              "\n",
              "    .dataframe tbody tr th {\n",
              "        vertical-align: top;\n",
              "    }\n",
              "\n",
              "    .dataframe thead th {\n",
              "        text-align: right;\n",
              "    }\n",
              "</style>\n",
              "<table border=\"1\" class=\"dataframe\">\n",
              "  <thead>\n",
              "    <tr style=\"text-align: right;\">\n",
              "      <th></th>\n",
              "      <th>id</th>\n",
              "      <th>charges</th>\n",
              "    </tr>\n",
              "  </thead>\n",
              "  <tbody>\n",
              "    <tr>\n",
              "      <th>0</th>\n",
              "      <td>1319</td>\n",
              "      <td>8269.711563</td>\n",
              "    </tr>\n",
              "    <tr>\n",
              "      <th>1</th>\n",
              "      <td>12</td>\n",
              "      <td>4223.228297</td>\n",
              "    </tr>\n",
              "    <tr>\n",
              "      <th>2</th>\n",
              "      <td>487</td>\n",
              "      <td>1875.530903</td>\n",
              "    </tr>\n",
              "    <tr>\n",
              "      <th>3</th>\n",
              "      <td>1118</td>\n",
              "      <td>39406.886902</td>\n",
              "    </tr>\n",
              "    <tr>\n",
              "      <th>4</th>\n",
              "      <td>460</td>\n",
              "      <td>10495.700214</td>\n",
              "    </tr>\n",
              "    <tr>\n",
              "      <th>...</th>\n",
              "      <td>...</td>\n",
              "      <td>...</td>\n",
              "    </tr>\n",
              "    <tr>\n",
              "      <th>397</th>\n",
              "      <td>332</td>\n",
              "      <td>13805.873068</td>\n",
              "    </tr>\n",
              "    <tr>\n",
              "      <th>398</th>\n",
              "      <td>226</td>\n",
              "      <td>4324.570638</td>\n",
              "    </tr>\n",
              "    <tr>\n",
              "      <th>399</th>\n",
              "      <td>1285</td>\n",
              "      <td>9333.570908</td>\n",
              "    </tr>\n",
              "    <tr>\n",
              "      <th>400</th>\n",
              "      <td>631</td>\n",
              "      <td>3329.465711</td>\n",
              "    </tr>\n",
              "    <tr>\n",
              "      <th>401</th>\n",
              "      <td>39</td>\n",
              "      <td>47808.914735</td>\n",
              "    </tr>\n",
              "  </tbody>\n",
              "</table>\n",
              "<p>402 rows × 2 columns</p>\n",
              "</div>"
            ],
            "text/plain": [
              "       id       charges\n",
              "0    1319   8269.711563\n",
              "1      12   4223.228297\n",
              "2     487   1875.530903\n",
              "3    1118  39406.886902\n",
              "4     460  10495.700214\n",
              "..    ...           ...\n",
              "397   332  13805.873068\n",
              "398   226   4324.570638\n",
              "399  1285   9333.570908\n",
              "400   631   3329.465711\n",
              "401    39  47808.914735\n",
              "\n",
              "[402 rows x 2 columns]"
            ]
          },
          "metadata": {},
          "execution_count": 32
        }
      ]
    }
  ]
}